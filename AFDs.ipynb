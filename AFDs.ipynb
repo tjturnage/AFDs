{
  "nbformat": 4,
  "nbformat_minor": 0,
  "metadata": {
    "colab": {
      "provenance": [],
      "authorship_tag": "ABX9TyNXV1RP5w8B1YGFUZbNuQcz",
      "include_colab_link": true
    },
    "kernelspec": {
      "name": "python3",
      "display_name": "Python 3"
    },
    "language_info": {
      "name": "python"
    }
  },
  "cells": [
    {
      "cell_type": "markdown",
      "metadata": {
        "id": "view-in-github",
        "colab_type": "text"
      },
      "source": [
        "<a href=\"https://colab.research.google.com/github/tjturnage/AFDs/blob/master/AFDs.ipynb\" target=\"_parent\"><img src=\"https://colab.research.google.com/assets/colab-badge.svg\" alt=\"Open In Colab\"/></a>"
      ]
    },
    {
      "cell_type": "markdown",
      "source": [],
      "metadata": {
        "id": "xoqsD-rvmNPU"
      }
    },
    {
      "cell_type": "code",
      "source": [
        "import re\n",
        "from datetime import datetime\n",
        "import requests\n",
        "from bs4 import BeautifulSoup\n",
        "\n",
        "\n",
        "#@title Enter the three letter WFO identifier\n",
        "wfo = \"SJT\" #@param {type:\"string\"}\n",
        "\n",
        "try:\n",
        "  url = f'https://forecast.weather.gov/product.php?site={wfo}&issuedby={wfo}&product=AFD&format=ci&version=1&glossary=0'\n",
        "  page = requests.get(url, timeout=5)\n",
        "  soup = BeautifulSoup(page.content, 'html.parser')\n",
        "  afd_text = str(soup.pre)\n",
        "  print(f'{wfo} is your selected WFO.')\n",
        "except:\n",
        "  print(f'Unable to access AFDs from {wfo}! Ensure your id is correct!')\n"
      ],
      "metadata": {
        "colab": {
          "base_uri": "https://localhost:8080/"
        },
        "cellView": "form",
        "id": "FpVWm-LgO2cC",
        "outputId": "284e59bf-df2d-43d3-ac4f-1528c6495d0a"
      },
      "execution_count": 4,
      "outputs": [
        {
          "output_type": "stream",
          "name": "stdout",
          "text": [
            "SJT is your selected WFO.\n"
          ]
        }
      ]
    },
    {
      "cell_type": "code",
      "source": [
        "#@title Check the AFD sections you want to collect\n",
        "update = True #@param {type:\"boolean\"}\n",
        "short_term = True #@param {type:\"boolean\"}\n",
        "long_term = True #@param {type:\"boolean\"}\n",
        "discussion = False #@param {type:\"boolean\"}\n",
        "aviation = False #@param {type:\"boolean\"}\n",
        "fire_weather = False #@param {type:\"boolean\"}\n",
        "marine = False #@param {type:\"boolean\"}\n",
        "\n",
        "sections_to_retrieve = []\n",
        "if update:\n",
        "  sections_to_retrieve.append('.UPDATE')\n",
        "if short_term:\n",
        "  sections_to_retrieve.append('.SHORT TERM')\n",
        "if long_term:\n",
        "  sections_to_retrieve.append('.LONG TERM')\n",
        "if discussion:\n",
        "  sections_to_retrieve.append('.DISCUSSION')\n",
        "if aviation:\n",
        "  sections_to_retrieve.append('.AVIATION')\n",
        "if fire_weather:\n",
        "  sections_to_retrieve.append('.FIRE WEATHER')\n",
        "if marine:\n",
        "  sections_to_retrieve.append('.MARINE')\n",
        "\n",
        "print(f'You selected: {sections_to_retrieve}')"
      ],
      "metadata": {
        "colab": {
          "base_uri": "https://localhost:8080/"
        },
        "cellView": "form",
        "id": "vaTkUn_53yLI",
        "outputId": "9c56057a-0379-4ce7-8dfa-bfb6d6f0854d"
      },
      "execution_count": 5,
      "outputs": [
        {
          "output_type": "stream",
          "name": "stdout",
          "text": [
            "You selected: ['.UPDATE', '.SHORT TERM', '.LONG TERM']\n"
          ]
        }
      ]
    },
    {
      "cell_type": "markdown",
      "source": [
        "After running the cell below, click the folder icon to the left to reveal a file called \"afd.txt\" that you can double click to view or right-click to download."
      ],
      "metadata": {
        "id": "kv_C3zKfSKsF"
      }
    },
    {
      "cell_type": "code",
      "source": [
        "output_path = 'afds.txt'\n",
        "    \n",
        "class AFD:\n",
        "    def __init__(self,versions=50):\n",
        "        self.versions = int(versions)\n",
        "        if self.versions > 50:\n",
        "            self.versions = 50\n",
        "        self.section_dict = {}\n",
        "        self.grab_bulletins()\n",
        "        self.write_text()\n",
        "\n",
        "    def get_time(self,line):\n",
        "        \"\"\"\n",
        "        input:\n",
        "            String: \"Issued at\" line (Ex: 'Issued at 307 AM EST Sat Dec 18 2021')\n",
        "            return: datestring\n",
        "            %I      7   Hour (12-hour clock) as a decimal number. (Platform specific)\n",
        "            %M     06   Minute as a zero-padded decimal number.\n",
        "            %p     AM   Locale’s equivalent of either AM or PM.\n",
        "            %a    Sun   Weekday as locale’s abbreviated name.\n",
        "            %b    Sep   Month as locale’s abbreviated name.\n",
        "            %-d     8   Day of the month as a decimal number. (Platform specific)\n",
        "            %Y   2013   Year with century as a decimal number.\n",
        "\n",
        "        \"\"\"\n",
        "        #test = 'Issued at 1207 PM EST Sat Dec 8 2021'\n",
        "        try:\n",
        "          elements = line.split(\" \")\n",
        "          # remove the time zone and day of week because they don't matter\n",
        "          extracted_elements = elements[2:4] + elements[6:]\n",
        "          shortened_time_string = \" \".join(extracted_elements)\n",
        "          datetime_object = datetime.strptime(shortened_time_string, '%I%M %p %b %d %Y')\n",
        "          new_datetime_string = datetime.strftime(datetime_object, '%Y%m%d%H%M')\n",
        "        except:\n",
        "          new_datetime_string = \"ZZZZ_Missing\"\n",
        "\n",
        "        return new_datetime_string\n",
        "\n",
        "\n",
        "    def get_forecaster_id(self,afd_text,section_name):\n",
        "        \"\"\"\n",
        "\n",
        "        \"\"\"\n",
        "        buffer = '  --------------------------  '\n",
        "        section_name_minus_leading_period = section_name[1:]\n",
        "        forecaster_id_section = afd_text.split('$$')[-1]\n",
        "        id_lines = forecaster_id_section.splitlines()\n",
        "        final = 'No forecaster found!'\n",
        "        for line in id_lines:\n",
        "          if section_name_minus_leading_period in line:\n",
        "            fcstr = str(line.split(\"...\")[1])\n",
        "            final = f'\\n\\n{buffer}{fcstr}{buffer}\\n\\n'\n",
        "            break\n",
        "\n",
        "        return final\n",
        "      \n",
        "\n",
        "\n",
        "    def get_section(self,afd_text,section_name):\n",
        "      \"\"\"\n",
        "\n",
        "      \"\"\"    \n",
        "      datetime_string = \"ZZZZ_Missing\"\n",
        "      try:\n",
        "        section_text = afd_text.split(section_name)[1]\n",
        "      except:\n",
        "        return\n",
        "      \n",
        "      issuance_time_string = self.get_time(section_text)\n",
        "\n",
        "      try:\n",
        "        forecaster_id = self.get_forecaster_id(afd_text,section_name)\n",
        "      except:\n",
        "        print('forecaster id missing!')\n",
        "\n",
        "\n",
        "      section_data = []\n",
        "      for line in section_text.splitlines():\n",
        "        if '&amp;&amp;' in line:\n",
        "          break\n",
        "        elif '$' in line:\n",
        "          break\n",
        "        elif '.LONG TERM' in line:\n",
        "          break\n",
        "        else:\n",
        "          if 'Issued at' in line:\n",
        "            datetime_string = self.get_time(line)\n",
        "            section_data.append(line)\n",
        "          else:\n",
        "            section_data.append(line)\n",
        "\n",
        "      section_content = '\\n'.join(section_data)\n",
        "      unique_section_identifier = f'{datetime_string}_{section_name}'\n",
        "      final_section_text = f'{forecaster_id}{section_name}...{section_content}'\n",
        "      self.section_dict[unique_section_identifier] = final_section_text\n",
        "      return\n",
        "\n",
        "\n",
        "    def grab_bulletins(self):\n",
        "        for version in range(1,self.versions):\n",
        "            url = f'https://forecast.weather.gov/product.php?site={wfo}&issuedby={wfo}&product=AFD&format=ci&version={version}&glossary=0'\n",
        "            page = requests.get(url, timeout=5)\n",
        "            soup = BeautifulSoup(page.content, 'html.parser')\n",
        "            afd_text = str(soup.pre)\n",
        "            for section in sections_to_retrieve:\n",
        "                self.get_section(afd_text, section)\n",
        "\n",
        "        return\n",
        "\n",
        "    def write_text(self):\n",
        "      with open('afds.txt','w') as fout:\n",
        "        for value in self.section_dict.values():\n",
        "          fout.write(value)\n",
        "\n",
        "        \n",
        "if __name__ == '__main__':\n",
        "    test = AFD(50)\n",
        "\n",
        "\n"
      ],
      "metadata": {
        "id": "Wv9imwOrwCdO"
      },
      "execution_count": 6,
      "outputs": []
    }
  ]
}